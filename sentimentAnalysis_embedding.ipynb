{
  "nbformat": 4,
  "nbformat_minor": 0,
  "metadata": {
    "colab": {
      "name": "NLP_IMDB_token_embedding_practice.ipynb",
      "provenance": [],
      "collapsed_sections": [],
      "include_colab_link": true
    },
    "kernelspec": {
      "name": "python3",
      "display_name": "Python 3"
    },
    "accelerator": "GPU"
  },
  "cells": [
    {
      "cell_type": "markdown",
      "metadata": {
        "id": "view-in-github",
        "colab_type": "text"
      },
      "source": [
        "<a href=\"https://colab.research.google.com/github/mishragauravgm/sentimentanalysis_binary/blob/master/sentimentAnalysis_embedding.ipynb\" target=\"_parent\"><img src=\"https://colab.research.google.com/assets/colab-badge.svg\" alt=\"Open In Colab\"/></a>"
      ]
    },
    {
      "cell_type": "code",
      "metadata": {
        "id": "r7HlS9P55W1w",
        "colab_type": "code",
        "outputId": "93eca3fc-2212-4281-b64d-ff2108cd8aaf",
        "colab": {
          "base_uri": "https://localhost:8080/",
          "height": 67
        }
      },
      "source": [
        "import tensorflow as tf\n",
        "tf.enable_eager_execution()\n",
        "\n",
        "\n",
        "print(\"Version: \", tf.__version__)\n",
        "print(\"Eager mode: \", tf.executing_eagerly())\n",
        "#print(\"Hub version: \", hub.__version__)\n",
        "print(\"GPU available \", tf.test.is_gpu_available())\n"
      ],
      "execution_count": 39,
      "outputs": [
        {
          "output_type": "stream",
          "text": [
            "Version:  1.14.0\n",
            "Eager mode:  True\n",
            "GPU available  True\n"
          ],
          "name": "stdout"
        }
      ]
    },
    {
      "cell_type": "code",
      "metadata": {
        "id": "evObwsHw-B9C",
        "colab_type": "code",
        "colab": {}
      },
      "source": [
        "# Other Imports\n",
        "import tensorflow_datasets as tfds\n",
        "import numpy as np\n",
        "import matplotlib.pyplot as plt"
      ],
      "execution_count": 0,
      "outputs": []
    },
    {
      "cell_type": "code",
      "metadata": {
        "id": "18cW6HM6-R-L",
        "colab_type": "code",
        "colab": {}
      },
      "source": [
        "#Using TFDS to load a dataset, this will be loaded as iterables, stored as tf.Tensor\n",
        "\n",
        "\n",
        "imdb_reviews, info = tfds.load(\"imdb_reviews\",with_info=True,as_supervised=True)"
      ],
      "execution_count": 0,
      "outputs": []
    },
    {
      "cell_type": "code",
      "metadata": {
        "id": "xfv6nE7v-cfl",
        "colab_type": "code",
        "outputId": "fb55f644-682b-4319-ac4e-e7f56f5ec7dc",
        "colab": {
          "base_uri": "https://localhost:8080/",
          "height": 54
        }
      },
      "source": [
        "#Will try later\n",
        "\n",
        "'''\n",
        "train_split = (\n",
        "    tfds.Split.TEST.subsplit(tfds.percent[:60]) + tfds.Split.TRAIN\n",
        ")\n",
        "\n",
        "\n",
        "test_split = (\n",
        "    tfds.Split.TEST.subsplit(tfds.percent[61:])\n",
        ")\n",
        "\n",
        "train = tfds.load(\"imdb_reviews\",split=train_split,as_supervised=True)\n",
        "\n",
        "train_examples_batch, train_labels_batch = next(iter(train.batch(10)))\n",
        "train_examples_batch\n",
        "\n",
        "\n",
        "'''"
      ],
      "execution_count": 4,
      "outputs": [
        {
          "output_type": "execute_result",
          "data": {
            "text/plain": [
              "'\\ntrain_split = (\\n    tfds.Split.TEST.subsplit(tfds.percent[:60]) + tfds.Split.TRAIN\\n)\\n\\n\\ntest_split = (\\n    tfds.Split.TEST.subsplit(tfds.percent[61:])\\n)\\n\\ntrain = tfds.load(\"imdb_reviews\",split=train_split,as_supervised=True)\\n\\ntrain_examples_batch, train_labels_batch = next(iter(train.batch(10)))\\ntrain_examples_batch\\n\\n\\n'"
            ]
          },
          "metadata": {
            "tags": []
          },
          "execution_count": 4
        }
      ]
    },
    {
      "cell_type": "code",
      "metadata": {
        "id": "cRgUEajEornZ",
        "colab_type": "code",
        "colab": {}
      },
      "source": [
        "train_data, test_data = imdb_reviews['train'],imdb_reviews['test']\n",
        "#We will use the following 4 lists to extract reviews and labels from the TFDS data format\n",
        "train_reviews = []\n",
        "test_reviews = []\n",
        "train_labels = []\n",
        "test_labels = []\n",
        "\n",
        "#Iterating through the tfds data\n",
        "\n",
        "for reviews,labels in train_data:\n",
        "  train_reviews.append(str(reviews.numpy()))\n",
        "  train_labels.append(labels.numpy())\n",
        "\n",
        "for reviews,labels in test_data:\n",
        "  test_reviews.append(str(reviews.numpy()))\n",
        "  test_labels.append(labels.numpy())\n",
        "  "
      ],
      "execution_count": 0,
      "outputs": []
    },
    {
      "cell_type": "code",
      "metadata": {
        "id": "XSdT7t3Bo5Kj",
        "colab_type": "code",
        "outputId": "6c5cf8a8-fd1f-4f9e-e77d-18dc2fdd55a5",
        "colab": {
          "base_uri": "https://localhost:8080/",
          "height": 726
        }
      },
      "source": [
        "train_labels = np.array(train_labels)\n",
        "test_labels = np.array(test_labels)\n",
        "\n",
        "#let's look at a few reviews and their labels\n",
        "\n",
        "idx = np.random.randint(0,25000,size=5)\n",
        "\n",
        "[print('From Training\\n', train_reviews[i],'\\n', train_labels[i]) for i in idx]\n",
        "\n",
        "\n",
        "idx = np.random.randint(0,25000,size=5)\n",
        "\n",
        "[print('From test set\\n', train_reviews[i],'\\n', train_labels[i]) for i in idx]\n",
        "\n",
        "#Counting number of training and test examples\n",
        "\n",
        "print(f'\\n Number of training examples {len(train_labels)} \\n Number of testing examples {len(test_labels)}')\n",
        "\n",
        "print(f'\\n Number of Positive reviews in: \\n \\t Train Set {len(train_labels[train_labels==1])} \\n \\t Test Set {len(test_labels[test_labels==1])}')\n",
        "\n",
        "print(f'\\n Number of Negative reviews in: \\n \\t Train Set {len(train_labels[train_labels==0])} \\n \\t Test Set {len(test_labels[test_labels==0])}')"
      ],
      "execution_count": 43,
      "outputs": [
        {
          "output_type": "stream",
          "text": [
            "From Training\n",
            " b'I went into this film expecting it to be similar to The Matrix or Pi. Boy, was I wrong. Yes, there is a poorly written, poorly acted plot in the movie (with CG animated cells and peptides to boot). However, the real focus of the film are the \"expert\" talking heads spewing out new age feel-good hogwash in between plot segments.<br /><br />Sure, it stars off innocently enough. There is a little bit of real quantum physics in the beginning. It states, for example, that electrons exist as both particle and wave, and that an atom is mostly empty space. However, the movie takes a giant (and unscientific) leap, saying that sub-atomic quantum effects happen on large scales as well. The talking heads take it even further. According to them, the following are true:<br /><br />-When Columbus arrived in the Caribbean, the natives were unable to see his ships because their minds were incapable of perceiving something so different. -Meditation can reduce the murder rate. -With positive thought, you can walk on water. -Your thoughts can change the formations of ice crystals in bottles of water.<br /><br />And hey, that\\'s only in the first 40 minutes!<br /><br />Watching the movie was torture. This film felt like a movie they would show you to get you to join a cult. After doing my homework, I realized that it basically is just that.<br /><br />On the other hand, this could be seen as a campy comedy (albeit one that\\'s not funny).<br /><br />Save your time and money: don\\'t see this movie.' \n",
            " 0\n",
            "From Training\n",
            " b\"this film was totally not what i expected. <br /><br />if this film was called something else no one would even notice the difference between the two. <br /><br />its really strange because i cannot see the point . the prequel and sequel lets just say don't make sense, the don't even match . maybe i am naive but ain't a vol 1 & vol 2 meant to match up. <br /><br />carlito was in jail in the 1st one and dies in the original, and in the prequel he lives and don't go jail. <br /><br />the plot was OK , but they should have changed round some actors and some of the story line and the name of the film and it would have been a good film .<br /><br />i really expected it to end like the other one started. <br /><br />if some one has a opinion on this post it please.\" \n",
            " 0\n",
            "From Training\n",
            " b\"My mother took me to see this film as a child and I long to see it every year as I do all of my other Christmas favorites. What I remember most was the silly Devil and Santa looking through his telescope. I waited and looked through the T.V. Guide each year after that to see when it would be shown. I would usually find it playing on a Saturday afternoon. I only found the movie in English which took something special away from the film and have longed to find a copy of it in Spanish. I hold this film dear to my heart and have never suffered from nightmares as others might suggest. Yes, it is a different film about Santa Claus and that is what makes it special and unique. I can't wait to get a copy of this film and watch it with my children as I explain to them my favorite parts and memories!!\" \n",
            " 1\n",
            "From Training\n",
            " b\"i got a copy from the writer of this movie on soulseek. I have to say it is pathetic and just plain painful to watch the two cops act, but i watched the movie as a joke and since it is a homage to august's underground which i happened to have seen it is in my book as an awesome movie. Its quality and everything about it is pretty bad but its entertaining and something to talk about amongst your friends. Reminds me of troma but good stuff. I recommend seeing this under two conditions, if you are bored and need a good laugh, or high, otherwise just let it be. Recommended download for sure. o and the killings are pretty funny. like when the zombie rips the Satan worshipers dick off and stabs someone in the head with it.\" \n",
            " 0\n",
            "From Training\n",
            " b'OK, the story - a simpleminded loony enters a life of bored to death young chick and her kid brother and wreaks havoc in their lives - is mildly interesting one. Anyway, ideas are nothing (everyone has some...) - the execution is everything.<br /><br />This is what bothered me with this flick. And it did bother me immensely. The rhythm (directing, editing) was slow, the pace was uneven and the climax expected. We have seen those frigging highways five, six, seven times - why? Norton character\\'s troubles were seen as a childish game, not enough deep to understand his problems / soul / blah and to root for or against him. Is he a coward, a manipulator or just a loony? References to the \"Taxi Driver\" were ridiculous and unnecessary and for certain not in favor for this flick (or to E.N. for that matter).<br /><br />And IMHO, it is cowardly executed at the end. Cheap emotional tricks for teenage lovers somewhere in Mid America. This guy should have killed the kid, blamed the father, create a real havoc. Or the kid should have killed the father at the end etc., but no, we have gotten cheesy ending where kids miss the loony, the father is puzzled over his own life and relationship with them and the loony, of course, dies. The happy dysfunctional family stays unharmed, safe and happily bored again so we could enjoy our pop-corns, undisturbed.<br /><br />And that scene where the loony enters the movie, oh my God, I would have to think long and hard to find something stupider than that! You do not shoot such a scene with a hidden camera and hidden crew. Creators of that movie probably thought that was a good idea but it was more than annoying. Again, if you\\'re a 16 years old girl somewhere in Kansas nowhere or whatever-where and dream about having sex with a crazy man twice your age, OK, then you might enjoy this movie and its \"message\".' \n",
            " 0\n",
            "From test set\n",
            " b'\"Black Angel\" is minor whodunit, with June Vincent as a woman trying to save her husband from the electric chair after he is found guilty of killing an old acquaintance. Dan Duryea (the husband of the murdered woman) decides to help Vincent find the real culprit. Peter Lorre has one thankless role as a suspect. This film noir looks and plays like a cheap programmer, never achieving anything special. It is pleasant enough but then, at some point, it stops making sense and the solution to the mystery provokes one of those big \"give me a break\" reactions. That ending alone could have sank the film completely, but what precedes the conclusion is not very good either. Vincent is a wimpy heroine and Duryea was never very good at playing good guys. I love film noirs, but this one was a real disappointment.' \n",
            " 0\n",
            "From test set\n",
            " b\"I was given the opportunity to see this 1926 film in a magnificently restored theater that was once part of the extensive Paramount chain of vaudeville houses. This Paramount has a \\xc2\\x91Mighty Wurlitzer' organ \\xc2\\x96 also magnificently restored -- that was used to accompany the silent films of the day.<br /><br />We were fortunate enough to have Dennis James, a key figure in the international revival of silent films at the Mighty Wurlitzer playing appropriate music and thematic compositions fitting to the action on the film. The print was a nearly perfect digital copy of the rapidly decaying nitrate negative and the entire experience was a once-in-a-lifetime chance to see a silent film as it was meant to be seen.<br /><br />This was Greta Garbo's first American film. She was only 20 years old but already had 6 Swedish films in her repertoire.<br /><br />It is somewhat ironic that this is a silent film about an opera star; even though the Mighty Wurlitzer added immensely to the mise-en-scene, it was necessary to leave much to the imagination.<br /><br />Modern audiences, for the most part, do not understand silent films\\xc2\\x85 Acting was different then, with expansive gestures and broad facial expressions. Therefore audiences laugh at inappropriate times \\xc2\\x96 the acting is seen as \\xc2\\x91hammy' and over-done \\xc2\\x96 but it was simply the style of the period.<br /><br />Garbo, with all her subtlety, did much to usher in the new age of acting: she could say more with a half-closed eye and volumes could be read into a downward glance or a simple shrug. She exemplifies the truism that `a picture is worth a thousand words.'<br /><br />Even though this is Garbo's first American film it is pretty obvious the studio knew what they had on their hands: This was MGM filmmaking at its best. The sets and costumes were magnificent. The special effects \\xc2\\x96 which by today's standards are pretty feeble \\xc2\\x96 were still electrifying and amazing.<br /><br />The script by Vicente Blasco Ibanez (from the novel by Entre Naranjos) would seem to be tailor made for Garbo; it showcases her strengths, magnifies her assets and there is no pesky language problem to deal with: a Swedish actress can play a Spanish temptress with no suspension of disbelief on our part.<br /><br />Her co-star was MGM's answer to Rudolph Valentino: Ricardo Cortez. He does an admirable job and did something that few romantic stars of the day ever would have done in a film: allow himself to look unnactractive, appear foolish and to grow old ungracefully.<br /><br />There are some fairly good character parts that are more than adequately acted \\xc2\\x96 especially when you consider the powerhouse that was Garbo. Notable among them are Lucien Littlefield as \\xc2\\x91Cupido' and Martha Mattox as \\xc2\\x91Do\\xc3\\xb1a Bernarda Brull.'<br /><br />This is when the extraordinary cinematographer, William H. Daniels, met Garbo \\xc2\\x96 they went on to make 20 films together. (He was the cinematographer on 157 films and his career spanned five decades!) He was able to capture her ethereal beauty and it was his photography that was primarily responsible for the moniker by which she became known: The Divine Garbo. Without his magnificent abilities she would not have been the success that she was.<br /><br />Seeing this film is an all-too-rare opportunity: if you ever have the chance, do not miss it.\" \n",
            " 1\n",
            "From test set\n",
            " b'Not the greatest film to remember Paul Naschy by.<br /><br />Gaston (Guillermo Bredeston) is probably the worst swordsman I have ever seen. Zorro would be ashamed! His only salvation came as the competition was just as bad.<br /><br />This film is described as adventure and horror. Forget the horror - there is none. No nudity, no blood, no monsters; just a Robin Hood adventure against an evil Baron (Paul Naschy) who wants to be King.<br /><br />The main feature of the film was seeing Graciela Nilson, who only made four films in two years and disappeared to our regrettable loss. Where did she go?' \n",
            " 0\n",
            "From test set\n",
            " b\"I shall not waste my time writing anything much further about how every aspect of this film is indescribably bad. That has been done in great detail already, many times over. The 'plot' started out as a very uninspiring cockney wide-boy/gangster-by-numbers bore and very quickly descended into an utter shambles. Anybody who pretends that they can see some hidden masterpiece inside this awful mess is just kidding themselves. It is now 7 or 8 years since I watched it during its 1 week run at the cinema before it was pulled, yet it sticks in my mind for being easily the most terrible film I have ever seen.<br /><br />I am only making these comments, and indeed the only reason I went to see the film, is because of the amusing fact that my brother Eddie appeared in it as the second 'heavy' in the pub scene. It was his hands that thrust a zippo lighter towards Rhys Ifan's face in the bar in 'Russia' (it was actually filmed at the former Butlins holiday camp at Barry Island). My brother has absolutely no acting experience whatsoever - he had recently joined an extras' agency and this was his first part. Having seen the film, it appeared that nobody in it required any acting experience whatsoever.<br /><br />I remember there were about 8 people in the whole cinema - and this was just a couple of days after it had been released. I have never heard of an other film that was so unpopular and disappeared so fast - and rightly so. In case you were thinking of renting this film on DVD, I would advise you instead to put your two pound coins in a fire until they are red-hot, then jam them into your eye sockets. This will probably be a lot less painful than watching the film.\" \n",
            " 0\n",
            "From test set\n",
            " b'The \"saucy\" misadventures of four au pairs who arrive in London on the same day in the early 1970s. There\\'s a Swedish girl, a Danish, a German and a Chinese. The story contrives to get the clothes off all of them, involve them in some Carry On-type humour and couple them with various misfits from the British film and TV culture of the time, including Man About the House star Richard O\\'Sullivan, future Coronation Street rogue Johnny Briggs and horror film stalwart Ferdy Mayne (playing a sheik). There\\'s a pretty risqu\\xc3\\xa9 amount of female nudity on display, for those who like that kind of thing (but obviously nothing hardcore).<br /><br />Most of the film is pretty thin and inconsequential; the girls are stereotypes, and German Anita especially suffers from some kind of infantalising disorder - she\\'s a moron obsessed with colour TV who acts like a kind of uninhibited child & dresses to deliberately show her private parts; in another more serious film, she would be a psychiatric case. The most interesting section of the film involves the Swedish girl being taken to a club in London where some dodgy types are still trying to swing, being seduced by a middle-aged rocker, losing her virginity and realising that the scene is not for her. These sequences have some energy in them and point to a more intriguing film than we\\'ve ended up with, in which promiscuity and the dregs of the music business and upper classes live soulless and seedy lives (there\\'s a fine turn by John Standing as an impotent public school rou\\xc3\\xa9). The strangest of the stories has the Chinese girl (future cannibal film veteran Me Me Lay) getting off with her childish piano prodigy employer, falling mutually in love with and then leaving in the middle of the night for no good reason at all, except some orientalist notion that \"Chinese birds are inscrutable, ain\\'t they?!\" The film is pretty demeaning to its women characters and there\\'s a smattering of homophobia in the dialogue and one of the characterisations. The end is striking, as Mayne\\'s sheik for no earthly reason (except they have to end the film somehow) whisks all of the girls away to his Arab kingdom for what looks to all the world like a future in the white slave trade, which they are all delighted about.<br /><br />Stuff and nonsense for the most part then, but directed with a fair amount of skill by veteran Val Guest, which puts it as a piece of film-making a notch above most of the 70s Brit sexploitation flicks.' \n",
            " 0\n",
            "\n",
            " Number of training examples 25000 \n",
            " Number of testing examples 25000\n",
            "\n",
            " Number of Positive reviews in: \n",
            " \t Train Set 12500 \n",
            " \t Test Set 12500\n",
            "\n",
            " Number of Negative reviews in: \n",
            " \t Train Set 12500 \n",
            " \t Test Set 12500\n"
          ],
          "name": "stdout"
        }
      ]
    },
    {
      "cell_type": "code",
      "metadata": {
        "id": "njPAi8MHr9dU",
        "colab_type": "code",
        "colab": {}
      },
      "source": [
        "VOCAB_SIZE = 10000\n",
        "EMBEDDING_DIM = 32\n",
        "MAX_LEN = 120\n",
        "TRUN_TYPE = 'post'\n",
        "OOV_TOKEN = '<oov>'\n",
        "\n",
        "from tensorflow.keras.preprocessing.text import Tokenizer\n",
        "from tensorflow.keras.preprocessing.sequence import pad_sequences\n",
        "\n",
        "tokenizer = Tokenizer(num_words = VOCAB_SIZE, oov_token = OOV_TOKEN)\n",
        "tokenizer.fit_on_texts(train_reviews)\n",
        "\n",
        "word_indices = tokenizer.word_index\n",
        "\n",
        "train_sequences = tokenizer.texts_to_sequences(train_reviews)\n",
        "train_padded_sequences = pad_sequences(train_sequences, maxlen = MAX_LEN, truncating = TRUN_TYPE)\n",
        "\n",
        "test_sequences = tokenizer.texts_to_sequences(test_reviews)\n",
        "test_padded_sequences = pad_sequences(test_sequences, maxlen=MAX_LEN, truncating = TRUN_TYPE)"
      ],
      "execution_count": 0,
      "outputs": []
    },
    {
      "cell_type": "code",
      "metadata": {
        "id": "DA1F0-QrAvLm",
        "colab_type": "code",
        "colab": {
          "base_uri": "https://localhost:8080/",
          "height": 843
        },
        "outputId": "37a99898-0bf3-4a71-a08a-62d554078262"
      },
      "source": [
        "NUM_EPOCHS = 15\n",
        "LOSS = 'binary_crossentropy'\n",
        "OPTIMIZER = 'adam'\n",
        "METRICS = ['accuracy']\n",
        "\n",
        "model = tf.keras.Sequential([\n",
        "   tf.keras.layers.Embedding(VOCAB_SIZE, EMBEDDING_DIM, input_length=MAX_LEN),\n",
        "   tf.keras.layers.Flatten(),\n",
        "   tf.keras.layers.Dense(5,activation='relu'),\n",
        "   tf.keras.layers.Dense(1,activation='sigmoid')\n",
        "])\n",
        "\n",
        "model.compile(loss=LOSS ,optimizer=OPTIMIZER,metrics=METRICS);\n",
        "print(model.summary())\n",
        "\n",
        "history = model.fit(train_padded_sequences, train_labels, epochs=NUM_EPOCHS, validation_data = (test_padded_sequences,test_labels))"
      ],
      "execution_count": 45,
      "outputs": [
        {
          "output_type": "stream",
          "text": [
            "Model: \"sequential_7\"\n",
            "_________________________________________________________________\n",
            "Layer (type)                 Output Shape              Param #   \n",
            "=================================================================\n",
            "embedding_7 (Embedding)      (None, 120, 32)           320000    \n",
            "_________________________________________________________________\n",
            "flatten_7 (Flatten)          (None, 3840)              0         \n",
            "_________________________________________________________________\n",
            "dense_14 (Dense)             (None, 5)                 19205     \n",
            "_________________________________________________________________\n",
            "dense_15 (Dense)             (None, 1)                 6         \n",
            "=================================================================\n",
            "Total params: 339,211\n",
            "Trainable params: 339,211\n",
            "Non-trainable params: 0\n",
            "_________________________________________________________________\n",
            "None\n",
            "Train on 25000 samples, validate on 25000 samples\n",
            "Epoch 1/15\n",
            "25000/25000 [==============================] - 10s 420us/sample - loss: 0.4867 - acc: 0.7496 - val_loss: 0.3885 - val_acc: 0.8240\n",
            "Epoch 2/15\n",
            "25000/25000 [==============================] - 10s 417us/sample - loss: 0.2039 - acc: 0.9275 - val_loss: 0.4335 - val_acc: 0.8106\n",
            "Epoch 3/15\n",
            "25000/25000 [==============================] - 10s 408us/sample - loss: 0.0456 - acc: 0.9922 - val_loss: 0.5248 - val_acc: 0.8078\n",
            "Epoch 4/15\n",
            "25000/25000 [==============================] - 10s 414us/sample - loss: 0.0108 - acc: 0.9989 - val_loss: 0.5934 - val_acc: 0.8086\n",
            "Epoch 5/15\n",
            "25000/25000 [==============================] - 10s 401us/sample - loss: 0.0039 - acc: 0.9996 - val_loss: 0.6428 - val_acc: 0.8099\n",
            "Epoch 6/15\n",
            "25000/25000 [==============================] - 10s 416us/sample - loss: 0.0012 - acc: 1.0000 - val_loss: 0.6909 - val_acc: 0.8108\n",
            "Epoch 7/15\n",
            "25000/25000 [==============================] - 10s 389us/sample - loss: 5.2430e-04 - acc: 1.0000 - val_loss: 0.7352 - val_acc: 0.8116\n",
            "Epoch 8/15\n",
            "25000/25000 [==============================] - 10s 390us/sample - loss: 2.8241e-04 - acc: 1.0000 - val_loss: 0.7758 - val_acc: 0.8106\n",
            "Epoch 9/15\n",
            "25000/25000 [==============================] - 10s 385us/sample - loss: 1.6749e-04 - acc: 1.0000 - val_loss: 0.8098 - val_acc: 0.8112\n",
            "Epoch 10/15\n",
            "25000/25000 [==============================] - 10s 385us/sample - loss: 1.0166e-04 - acc: 1.0000 - val_loss: 0.8388 - val_acc: 0.8117\n",
            "Epoch 11/15\n",
            "25000/25000 [==============================] - 10s 397us/sample - loss: 6.2765e-05 - acc: 1.0000 - val_loss: 0.8716 - val_acc: 0.8119\n",
            "Epoch 12/15\n",
            "25000/25000 [==============================] - 10s 414us/sample - loss: 3.9345e-05 - acc: 1.0000 - val_loss: 0.8998 - val_acc: 0.8123\n",
            "Epoch 13/15\n",
            "25000/25000 [==============================] - 11s 447us/sample - loss: 2.4583e-05 - acc: 1.0000 - val_loss: 0.9342 - val_acc: 0.8123\n",
            "Epoch 14/15\n",
            "25000/25000 [==============================] - 10s 409us/sample - loss: 1.5635e-05 - acc: 1.0000 - val_loss: 0.9621 - val_acc: 0.8120\n",
            "Epoch 15/15\n",
            "25000/25000 [==============================] - 10s 390us/sample - loss: 9.9697e-06 - acc: 1.0000 - val_loss: 0.9934 - val_acc: 0.8120\n"
          ],
          "name": "stdout"
        }
      ]
    },
    {
      "cell_type": "code",
      "metadata": {
        "id": "mWsx5MRBFLTp",
        "colab_type": "code",
        "colab": {
          "base_uri": "https://localhost:8080/",
          "height": 610
        },
        "outputId": "1c1d64a5-660a-499a-9d15-71400f4531e5"
      },
      "source": [
        "history.history.keys()\n",
        "\n",
        "# summarize history for accuracy\n",
        "plt.plot(history.history['acc'])\n",
        "plt.plot(history.history['val_acc'])\n",
        "plt.title('Model Accuracy')\n",
        "plt.ylabel('accuracy')\n",
        "plt.xlabel('epoch')\n",
        "plt.legend(['train', 'test'], loc='upper left')\n",
        "plt.savefig('Accuracy_plot.png',dpi=100)\n",
        "\n",
        "plt.show()\n",
        "\n",
        "# summarize history for loss\n",
        "plt.plot(history.history['loss'])\n",
        "plt.plot(history.history['val_loss'])\n",
        "plt.title('Model Loss')\n",
        "plt.ylabel('loss')\n",
        "plt.xlabel('epoch')\n",
        "plt.legend(['train', 'test'], loc='upper left')\n",
        "plt.savefig('loss_plot.png',dpi=100)\n",
        "plt.show()\n",
        "'''\n",
        "from google.colab import files\n",
        "\n",
        "files.download('Accuracy_plot.png')\n",
        "files.download('loss_plot.png')'''"
      ],
      "execution_count": 53,
      "outputs": [
        {
          "output_type": "display_data",
          "data": {
            "image/png": "[encoded data removed]",
            "text/plain": [
              "<Figure size 432x288 with 1 Axes>"
            ]
          },
          "metadata": {
            "tags": []
          }
        },
        {
          "output_type": "display_data",
          "data": {
            "image/png": "[encoded data removed]",
            "text/plain": [
              "<Figure size 432x288 with 1 Axes>"
            ]
          },
          "metadata": {
            "tags": []
          }
        },
        {
          "output_type": "execute_result",
          "data": {
            "text/plain": [
              "\"\\nfrom google.colab import files\\n\\nfiles.download('Accuracy_plot.png')\\nfiles.download('loss_plot.png')\""
            ]
          },
          "metadata": {
            "tags": []
          },
          "execution_count": 53
        }
      ]
    },
    {
      "cell_type": "markdown",
      "metadata": {
        "id": "CdGb_jKFv7Lx",
        "colab_type": "text"
      },
      "source": [
        "In order to study embeddings more, we are reversing the dictionary, word_indices has word as key and token as value, we will reverse this dictionary"
      ]
    },
    {
      "cell_type": "code",
      "metadata": {
        "id": "GjQ0G286iCjG",
        "colab_type": "code",
        "colab": {
          "base_uri": "https://localhost:8080/",
          "height": 70
        },
        "outputId": "f15bedf6-6241-467c-85d6-47051bf8fed1"
      },
      "source": [
        "reverse_word_indices = dict([(token,word) for (word,token) in word_indices.items()])\n",
        "\n",
        "def get_review_back(tokenized_text):\n",
        "  return ' '.join([reverse_word_indices.get(i,'**') for i in tokenized_text]); #Gets the value from dict and joins to form a sentence\n",
        "\n",
        "\n",
        "#Just checking a few of those conversions\n",
        "print(get_review_back(train_padded_sequences[0])) #Notice how the length has been set to 120 only, so the length is truncated from the end\n",
        "print(train_reviews[0])\n",
        "      "
      ],
      "execution_count": 47,
      "outputs": [
        {
          "output_type": "stream",
          "text": [
            "b as a <oov> fan of dickens i have <oov> been disappointed by adaptations of his novels br br although his works presented an extremely accurate re telling of human life at every level in victorian britain throughout them all was a <oov> thread of humour that could be both playful or sarcastic as the narrative <oov> in a way he was a literary <oov> and <oov> he could be serious and hilarious in the same sentence he <oov> pride <oov> arrogance celebrated modesty and <oov> with loneliness and poverty it may be a clich xc3 xa9 but he was a people's writer br br and it is the comedy that is so often missing from his interpretations at the\n",
            "b\"As a lifelong fan of Dickens, I have invariably been disappointed by adaptations of his novels.<br /><br />Although his works presented an extremely accurate re-telling of human life at every level in Victorian Britain, throughout them all was a pervasive thread of humour that could be both playful or sarcastic as the narrative dictated. In a way, he was a literary caricaturist and cartoonist. He could be serious and hilarious in the same sentence. He pricked pride, lampooned arrogance, celebrated modesty, and empathised with loneliness and poverty. It may be a clich\\xc3\\xa9, but he was a people's writer.<br /><br />And it is the comedy that is so often missing from his interpretations. At the time of writing, Oliver Twist is being dramatised in serial form on BBC television. All of the misery and cruelty is their, but non of the humour, irony, and savage lampoonery. The result is just a dark, dismal experience: the story penned by a journalist rather than a novelist. It's not really Dickens at all.<br /><br />'Oliver!', on the other hand, is much closer to the mark. The mockery of officialdom is perfectly interpreted, from the blustering beadle to the drunken magistrate. The classic stand-off between the beadle and Mr Brownlow, in which the law is described as 'a ass, a idiot' couldn't have been better done. Harry Secombe is an ideal choice.<br /><br />But the blinding cruelty is also there, the callous indifference of the state, the cold, hunger, poverty and loneliness are all presented just as surely as The Master would have wished.<br /><br />And then there is crime. Ron Moody is a treasure as the sleazy Jewish fence, whilst Oliver Reid has Bill Sykes to perfection.<br /><br />Perhaps not surprisingly, Lionel Bart - himself a Jew from London's east-end - takes a liberty with Fagin by re-interpreting him as a much more benign fellow than was Dicken's original. In the novel, he was utterly ruthless, sending some of his own boys to the gallows in order to protect himself (though he was also caught and hanged). Whereas in the movie, he is presented as something of a wayward father-figure, a sort of charitable thief rather than a corrupter of children, the latter being a long-standing anti-semitic sentiment. Otherwise, very few liberties are taken with Dickens's original. All of the most memorable elements are included. Just enough menace and violence is retained to ensure narrative fidelity whilst at the same time allowing for children' sensibilities. Nancy is still beaten to death, Bullseye narrowly escapes drowning, and Bill Sykes gets a faithfully graphic come-uppance.<br /><br />Every song is excellent, though they do incline towards schmaltz. Mark Lester mimes his wonderfully. Both his and my favourite scene is the one in which the world comes alive to 'who will buy'. It's schmaltzy, but it's Dickens through and through.<br /><br />I could go on. I could commend the wonderful set-pieces, the contrast of the rich and poor. There is top-quality acting from more British regulars than you could shake a stick at.<br /><br />I ought to give it 10 points, but I'm feeling more like Scrooge today. Soak it up with your Christmas dinner. No original has been better realised.\"\n"
          ],
          "name": "stdout"
        }
      ]
    },
    {
      "cell_type": "markdown",
      "metadata": {
        "id": "gNs5TOboBklB",
        "colab_type": "text"
      },
      "source": [
        "Afer forming the helper function above we will now create two tsv (vector) files in order to visualise the embeddings. The vectos.tsv file will have details of each word as a vector whereas metadata.tsv will have that particular word against which embedding has been done.\n"
      ]
    },
    {
      "cell_type": "code",
      "metadata": {
        "id": "OpJL9U3aiQTY",
        "colab_type": "code",
        "colab": {
          "base_uri": "https://localhost:8080/",
          "height": 34
        },
        "outputId": "2f54439b-5487-44de-8674-fd4421b1e9ec"
      },
      "source": [
        "embedding_layer = model.layers[0]\n",
        "\n",
        "weights = embedding_layer.get_weights()[0]\n",
        "print(weights.shape)\n",
        "\n",
        "\n",
        "import io\n",
        "\n",
        "vector_output = io.open('vectors.tsv','w', encoding = 'utf-8')\n",
        "meta_output = io.open('metadata.tsv','w',encoding = 'utf-8')\n",
        "\n",
        "for word_token in range(1, VOCAB_SIZE):\n",
        "  word = reverse_word_indices[word_token]\n",
        "  embeddings = weights[word_token]\n",
        "  meta_output.write(word+'\\n');\n",
        "  vector_output.write('\\t'.join([str(x) for x in embeddings])+\"\\n\");\n",
        "  \n",
        "vector_output.close()\n",
        "meta_output.close()\n",
        "\n",
        "from google.colab import files\n",
        "\n",
        "files.download('vectors.tsv')\n",
        "files.download('metadata.tsv')"
      ],
      "execution_count": 51,
      "outputs": [
        {
          "output_type": "stream",
          "text": [
            "(10000, 32)\n"
          ],
          "name": "stdout"
        }
      ]
    }
  ]
}